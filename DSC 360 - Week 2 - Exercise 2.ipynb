{
 "cells": [
  {
   "cell_type": "markdown",
   "id": "cc22c08e-4fa7-4d73-af6a-bb1232b4f063",
   "metadata": {},
   "source": [
    "# <center> DSC 360 - Week 2 - Exercise 2\n",
    "***\n",
    "## Alana D'Agostino\n",
    "### Professor Neugebauer\n",
    "***"
   ]
  },
  {
   "cell_type": "code",
   "execution_count": null,
   "id": "28eb2b3a-85ba-45ec-9ddc-e2bddfd824c4",
   "metadata": {},
   "outputs": [],
   "source": [
    "# Code attribution\n",
    "/\n",
    "# ========================================================================================\n",
    "# Title: \"Python API Tutorial: Getting Started with APIs\"\n",
    "# Author: Charlie Custer for DATAQUEST\n",
    "# Date: 7 September 2024\n",
    "# Modified By: Alana D'Agostino (DSC 360 - Week 2 - Notes & Experimentation)\n",
    "# Description: This program follows the code outlined in the article cited above.\n",
    "## This program demonstrates using an Application Programming Interface (API) to \n",
    "## query an API using the requests.get() method, print the response on the console,\n",
    "## convert Python objects to strings using the json.dumps() function, \n",
    "## parse JSON responses, and iterate through a Python dictionary.\n",
    "# ===================================================================================\n",
    "/"
   ]
  },
  {
   "cell_type": "markdown",
   "id": "3f19a272-6cad-4a2d-86c8-3ec21ef798aa",
   "metadata": {},
   "source": [
    "## <font color=Blue><center>**Set Up Notebook**"
   ]
  },
  {
   "cell_type": "code",
   "execution_count": 2,
   "id": "556b182a-de44-4340-81da-e7fb1d5d6ea9",
   "metadata": {},
   "outputs": [
    {
     "name": "stdout",
     "output_type": "stream",
     "text": [
      "{\u001b[37m\u001b[39;49;00m\n",
      "\u001b[37m    \u001b[39;49;00m\u001b[94m\"accessibility\"\u001b[39;49;00m:\u001b[37m \u001b[39;49;00m\u001b[33m\"Minor challenges\"\u001b[39;49;00m,\u001b[37m\u001b[39;49;00m\n",
      "\u001b[37m    \u001b[39;49;00m\u001b[94m\"activity\"\u001b[39;49;00m:\u001b[37m \u001b[39;49;00m\u001b[33m\"Rearrange and organize your room\"\u001b[39;49;00m,\u001b[37m\u001b[39;49;00m\n",
      "\u001b[37m    \u001b[39;49;00m\u001b[94m\"availability\"\u001b[39;49;00m:\u001b[37m \u001b[39;49;00m\u001b[34m0.15\u001b[39;49;00m,\u001b[37m\u001b[39;49;00m\n",
      "\u001b[37m    \u001b[39;49;00m\u001b[94m\"duration\"\u001b[39;49;00m:\u001b[37m \u001b[39;49;00m\u001b[33m\"minutes\"\u001b[39;49;00m,\u001b[37m\u001b[39;49;00m\n",
      "\u001b[37m    \u001b[39;49;00m\u001b[94m\"key\"\u001b[39;49;00m:\u001b[37m \u001b[39;49;00m\u001b[33m\"6197243\"\u001b[39;49;00m,\u001b[37m\u001b[39;49;00m\n",
      "\u001b[37m    \u001b[39;49;00m\u001b[94m\"kidFriendly\"\u001b[39;49;00m:\u001b[37m \u001b[39;49;00m\u001b[34mtrue\u001b[39;49;00m,\u001b[37m\u001b[39;49;00m\n",
      "\u001b[37m    \u001b[39;49;00m\u001b[94m\"link\"\u001b[39;49;00m:\u001b[37m \u001b[39;49;00m\u001b[33m\"\"\u001b[39;49;00m,\u001b[37m\u001b[39;49;00m\n",
      "\u001b[37m    \u001b[39;49;00m\u001b[94m\"participants\"\u001b[39;49;00m:\u001b[37m \u001b[39;49;00m\u001b[34m1\u001b[39;49;00m,\u001b[37m\u001b[39;49;00m\n",
      "\u001b[37m    \u001b[39;49;00m\u001b[94m\"price\"\u001b[39;49;00m:\u001b[37m \u001b[39;49;00m\u001b[34m0\u001b[39;49;00m,\u001b[37m\u001b[39;49;00m\n",
      "\u001b[37m    \u001b[39;49;00m\u001b[94m\"type\"\u001b[39;49;00m:\u001b[37m \u001b[39;49;00m\u001b[33m\"busywork\"\u001b[39;49;00m\u001b[37m\u001b[39;49;00m\n",
      "}\u001b[37m\u001b[39;49;00m\n",
      "\n"
     ]
    }
   ],
   "source": [
    "# Import libraries\n",
    "import requests\n",
    "import json\n",
    "from jprint import jprint\n",
    "\n",
    "# Access API data\n",
    "url = 'https://bored-api.appbrewery.com/random'   # URL to the Bored API\n",
    "response = requests.get(url)   # Use requests.get() method to query API\n",
    "data = response.json()   # Use response.json() method; Data returns as a JSON object\n",
    "jprint(data)   # Print"
   ]
  },
  {
   "cell_type": "markdown",
   "id": "1a993860-721a-439e-b613-447d5e857cfc",
   "metadata": {},
   "source": [
    "## <font color=Blue><center>**Format & Print Output**"
   ]
  },
  {
   "cell_type": "code",
   "execution_count": 4,
   "id": "3831e313-f181-4c94-8aba-7daa26833872",
   "metadata": {},
   "outputs": [
    {
     "name": "stdout",
     "output_type": "stream",
     "text": [
      "\n",
      "Activity : Rearrange and organize your room\n",
      "Availability : 0.15\n",
      "Type : busywork\n",
      "Participants : 1\n",
      "Price : 0\n",
      "Accessibility : Minor challenges\n",
      "Duration : minutes\n",
      "Kidfriendly : True\n",
      "Link : \n",
      "Key : 6197243\n"
     ]
    }
   ],
   "source": [
    "# Print key-value pairs in clean, readable format\n",
    "print()\n",
    "for key, value in data.items():   # Iterate through dictionary key-value pairs\n",
    "    print(key.capitalize(), \":\", value)   # Format output; capitalize first letter of\n",
    "                                          # key word using .capitalize() method"
   ]
  },
  {
   "cell_type": "markdown",
   "id": "a0c6f518-5caa-483e-b61a-6f1c86017508",
   "metadata": {},
   "source": [
    "***\n",
    "### <center> **Notes** </center>\n",
    "* <font color=Green> Why use the `jprint()` function instead of just `print()`? </font>\n",
    "  * From pypi.org jprint 1.6, \"A simple JSON and python dictionary pretty printer.\" <br>\n",
    "  * `jprint` works on Python dictionaries and JSON strings.\n",
    "  * `jprint`, \"Pretty Print,\" does two things:\n",
    "> **1.** Color coordinates key-value pairs in the Python dictionary, making the outputs easier to read. <br>\n",
    "> **2.** Formats the output (JSON string) to a Python dictionary.\n",
    "\n",
    "### <center> **Reference** </center>\n",
    "* PyPI: __[jprint 1.6](https://pypi.org/project/jprint/)__ <font color=gray> (Accessed: 2024, September) <br>\n",
    "***"
   ]
  },
  {
   "cell_type": "markdown",
   "id": "b09afae2-c190-4695-8827-6a83766618b4",
   "metadata": {},
   "source": [
    "### <center> **References** </center>\n",
    "* DATAQUEST: __[Python API Tutorial: Getting Started with APIs](https://www.dataquest.io/blog/python-api-tutorial/)__ <font color=Gray><br><u>Charlie Custer</u> (19 March 2024)\n",
    "* note.nkmk.me: __[Iterate through dictionary keys and values in Python](https://note.nkmk.me/en/python-dict-keys-values-items/)__ <font color=Gray><br>(**Modified:** 2023, August 24; **Accessed:** 2024, September)\n",
    "* PYnative: __[Parse a JSON response using Python requests library](https://pynative.com/parse-json-response-using-python-requests-library/)__ <font color=Gray><br>(2021, May 14)\n",
    "* Python.org: __[json - JSON encoder and decoder](https://docs.python.org/3/library/json.html#json-to-py-table)__ <font color=Gray><br>(**Accessed:** 2024, September)\n",
    "* Real Python: __[How to Iterate Through a Dictionary in Python](https://realpython.com/iterate-through-dictionary-python/)__ <font color=Gray><br><u>Leodanis Pozo Ramos</u>(**Accessed:** 2024, September)\n",
    "* Stack Overflow:\n",
    "  * __[What is the difference between JSON and Object Literal Notation?](https://stackoverflow.com/questions/2904131/what-is-the-difference-between-json-and-object-literal-notation)__ <font color=Gray><br>(**Original Post:** 2010, June; **Accessed:** 2024, September)\n",
    "  * __[How to capitalize the first letter in dict values only](https://stackoverflow.com/questions/70185184/how-to-capitalize-the-first-letter-in-dict-values-only)__ <font color=Gray><br>(**Original Post:** 2021, December; **Accessed:** 2024, September)\n",
    "* YouTube: __[Coding With Python :: Learn API Basics to Grab Data with Python](https://www.youtube.com/watch?v=pxofwuWTs7c)__ <font color=Gray><br><u>CodingEntrepreneurs</u> (2014)\n",
    "* W3Schools: __[Python requests.Response Object](https://www.w3schools.com/python/ref_requests_response.asp)__ <font color=Gray><br>(**Accessed:** 2024, September)"
   ]
  },
  {
   "cell_type": "markdown",
   "id": "52e5278a-f89b-43aa-8141-fcb3263770af",
   "metadata": {},
   "source": [
    "***\n",
    "***\n",
    "***"
   ]
  }
 ],
 "metadata": {
  "kernelspec": {
   "display_name": "Python 3 (ipykernel)",
   "language": "python",
   "name": "python3"
  },
  "language_info": {
   "codemirror_mode": {
    "name": "ipython",
    "version": 3
   },
   "file_extension": ".py",
   "mimetype": "text/x-python",
   "name": "python",
   "nbconvert_exporter": "python",
   "pygments_lexer": "ipython3",
   "version": "3.11.7"
  }
 },
 "nbformat": 4,
 "nbformat_minor": 5
}
